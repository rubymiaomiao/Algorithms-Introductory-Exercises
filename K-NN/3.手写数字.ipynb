{
 "cells": [
  {
   "cell_type": "code",
   "execution_count": null,
   "metadata": {},
   "outputs": [],
   "source": [
    "加載手寫數字數據集"
   ]
  },
  {
   "cell_type": "code",
   "execution_count": 1,
   "metadata": {},
   "outputs": [
    {
     "data": {
      "text/plain": [
       "(array([[0, 0, 0, ..., 0, 0, 0],\n",
       "        [0, 0, 0, ..., 0, 0, 0],\n",
       "        [0, 0, 0, ..., 0, 0, 0],\n",
       "        ...,\n",
       "        [0, 0, 0, ..., 0, 0, 0],\n",
       "        [0, 0, 0, ..., 0, 0, 0],\n",
       "        [0, 0, 0, ..., 0, 0, 0]]),\n",
       " array([0, 0, 0, ..., 9, 9, 9]),\n",
       " (1934, 1024),\n",
       " (1934,),\n",
       " (946, 1024),\n",
       " (946,))"
      ]
     },
     "execution_count": 1,
     "metadata": {},
     "output_type": "execute_result"
    }
   ],
   "source": [
    "import numpy as np\n",
    "import os\n",
    "\n",
    "\n",
    "#加載數據\n",
    "def load_data(folder):\n",
    "    #遍歷所有文件\n",
    "    files = os.listdir(folder)\n",
    "\n",
    "    #存儲數據\n",
    "    x = np.empty((len(files), 1024), dtype=int)\n",
    "    y = np.empty(len(files), dtype=int)\n",
    "\n",
    "    for i in range(len(files)):\n",
    "        with open('手寫數字_訓練/' + files[i]) as fr:\n",
    "            lines = fr.readlines()\n",
    "\n",
    "        #讀取一個文件,轉為1024維的向量\n",
    "        x_i = []\n",
    "        for line in lines:\n",
    "            line = line.strip()\n",
    "            x_i.extend(list(line))\n",
    "\n",
    "        #存儲到x中\n",
    "        x[i] = np.array(x_i, dtype=int)\n",
    "\n",
    "        #從文件名里解析y\n",
    "        y[i] = files[i].split('_')[0]\n",
    "    return x, y\n",
    "\n",
    "\n",
    "x, y = load_data('手寫數字_訓練')\n",
    "test_x, test_y = load_data('手寫數字_測試')\n",
    "\n",
    "x, y, x.shape, y.shape, test_x.shape, test_y.shape"
   ]
  },
  {
   "cell_type": "markdown",
   "metadata": {},
   "source": [
    "2.訓練KNN模型\n",
    "3.預測結果：我們使用測試集來測試KNN模型的性能。"
   ]
  },
  {
   "cell_type": "code",
   "execution_count": 2,
   "metadata": {},
   "outputs": [
    {
     "data": {
      "text/plain": [
       "0"
      ]
     },
     "execution_count": 2,
     "metadata": {},
     "output_type": "execute_result"
    }
   ],
   "source": [
    "def knn(_x, k=3):\n",
    "    temp = _x - x\n",
    "    temp = np.power(temp, 2)\n",
    "    temp = temp.sum(axis=1)\n",
    "    temp = np.sqrt(temp)\n",
    "    argsort = temp.argsort()\n",
    "\n",
    "    result = y[argsort][:k]\n",
    "    return np.bincount(result).argmax()\n",
    "\n",
    "\n",
    "knn(test_x[0])"
   ]
  },
  {
   "cell_type": "code",
   "execution_count": 3,
   "metadata": {
    "scrolled": false
   },
   "outputs": [
    {
     "name": "stdout",
     "output_type": "stream",
     "text": [
      "0.9735729386892178\n"
     ]
    }
   ],
   "source": [
    "correct = 0\n",
    "for i in range(len(test_x)):\n",
    "    pred = knn(test_x[i], k=9)\n",
    "    #print(pred, test_y[i])\n",
    "\n",
    "    if pred == test_y[i]:\n",
    "        correct += 1\n",
    "\n",
    "print(correct / len(test_x))"
   ]
  }
 ],
 "metadata": {
  "kernelspec": {
   "display_name": "Python 3",
   "language": "python",
   "name": "python3"
  },
  "language_info": {
   "codemirror_mode": {
    "name": "ipython",
    "version": 3
   },
   "file_extension": ".py",
   "mimetype": "text/x-python",
   "name": "python",
   "nbconvert_exporter": "python",
   "pygments_lexer": "ipython3",
   "version": "3.8.3"
  }
 },
 "nbformat": 4,
 "nbformat_minor": 4
}
