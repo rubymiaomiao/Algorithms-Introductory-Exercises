{
 "cells": [
  {
   "cell_type": "code",
   "execution_count": 1,
   "metadata": {
    "scrolled": true
   },
   "outputs": [
    {
     "data": {
      "text/plain": [
       "(array([[0, 0, 0, 0, 0, 0, 0],\n",
       "        [1, 0, 1, 0, 0, 0, 0],\n",
       "        [1, 0, 0, 0, 0, 0, 0],\n",
       "        [0, 1, 0, 0, 1, 1, 0],\n",
       "        [1, 1, 0, 1, 1, 1, 0],\n",
       "        [0, 2, 2, 0, 2, 1, 1],\n",
       "        [2, 1, 1, 1, 0, 0, 1],\n",
       "        [1, 1, 0, 0, 1, 1, 1],\n",
       "        [2, 0, 0, 2, 2, 0, 1],\n",
       "        [0, 0, 1, 1, 1, 0, 1]]),\n",
       " array([[0, 0, 1, 0, 0, 0, 0],\n",
       "        [2, 0, 0, 0, 0, 0, 0],\n",
       "        [1, 1, 0, 0, 1, 0, 0],\n",
       "        [1, 1, 1, 1, 1, 0, 1],\n",
       "        [2, 2, 2, 2, 2, 0, 1],\n",
       "        [2, 0, 0, 2, 2, 1, 1],\n",
       "        [0, 1, 0, 1, 0, 0, 1]]))"
      ]
     },
     "execution_count": 1,
     "metadata": {},
     "output_type": "execute_result"
    }
   ],
   "source": [
    "import numpy as np\n",
    "\n",
    "\n",
    "#加載數據集\n",
    "def load_data():\n",
    "    with open('決策樹數據.txt') as fr:\n",
    "        lines = fr.readlines()\n",
    "\n",
    "    x = np.empty((len(lines), 7), dtype=int)\n",
    "\n",
    "    for i in range(len(lines)):\n",
    "        line = lines[i].strip().split(',')\n",
    "        x[i] = line\n",
    "\n",
    "    test_x = x[10:]\n",
    "    x = x[:10]\n",
    "\n",
    "    return x, test_x\n",
    "\n",
    "\n",
    "x, test_x = load_data()\n",
    "x, test_x"
   ]
  },
  {
   "cell_type": "code",
   "execution_count": 2,
   "metadata": {},
   "outputs": [
    {
     "data": {
      "text/plain": [
       "1.0"
      ]
     },
     "execution_count": 2,
     "metadata": {},
     "output_type": "execute_result"
    }
   ],
   "source": [
    "#計算數據集的熵,當然這個熵是針對於y來說的\n",
    "def get_entropy(_x):\n",
    "    entropy = 0\n",
    "\n",
    "    #統計y的熵就可以了\n",
    "    y = _x[:, -1]\n",
    "\n",
    "    #統計每個結果出現的次數,[8 9],表示0出現8次,1出現9次\n",
    "    bincount = np.bincount(y)  #[8 9]\n",
    "    for count in bincount:\n",
    "        if count == 0:\n",
    "            continue\n",
    "\n",
    "        #出現次數 / 總次數 = 出現概率\n",
    "        prob = count / len(_x)\n",
    "\n",
    "        #熵 = p * log(p) * -1\n",
    "        entropy -= prob * np.log2(prob)\n",
    "\n",
    "    return entropy\n",
    "\n",
    "\n",
    "get_entropy(x)"
   ]
  },
  {
   "cell_type": "code",
   "execution_count": 3,
   "metadata": {},
   "outputs": [
    {
     "data": {
      "text/plain": [
       "0.2754887502163468"
      ]
     },
     "execution_count": 3,
     "metadata": {},
     "output_type": "execute_result"
    }
   ],
   "source": [
    "def get_gain(_x, col):\n",
    "    #列熵\n",
    "    col_entropy = 0\n",
    "\n",
    "    #根據列值,把數據分成n份\n",
    "    for value in set(_x[:, col]):\n",
    "        x_by_col_and_value = _x[_x[:, col] == value]\n",
    "\n",
    "        #這個數據子集出現的概率,很顯然,等於出現次數/總次數\n",
    "        prob = len(x_by_col_and_value) / len(_x)\n",
    "\n",
    "        #求數據子集的熵\n",
    "        entropy = get_entropy(x_by_col_and_value)\n",
    "\n",
    "        #這個列的熵,等於這個式子的累計\n",
    "        col_entropy += prob * entropy\n",
    "\n",
    "    #信息增益,就是切分數據後,熵值能下降多少,這個值越大越好\n",
    "    gain = get_entropy(_x) - col_entropy\n",
    "\n",
    "    #用這個就是id3決策樹,他傾向於選擇可取值多的列\n",
    "    return gain\n",
    "\n",
    "\n",
    "get_gain(x, 0)"
   ]
  },
  {
   "cell_type": "code",
   "execution_count": 4,
   "metadata": {},
   "outputs": [
    {
     "data": {
      "text/plain": [
       "0"
      ]
     },
     "execution_count": 4,
     "metadata": {},
     "output_type": "execute_result"
    }
   ],
   "source": [
    "def get_split_col(_x):\n",
    "    best_col = -1\n",
    "    best_gain = 0\n",
    "\n",
    "    #遍歷所有的列,最後一列是y,不需要計算\n",
    "    for col in range(_x.shape[1] - 1):\n",
    "\n",
    "        #信息增益,就是切分數據後,熵值能下降多少,這個值越大越好\n",
    "        gain = get_gain(_x, col)\n",
    "\n",
    "        #信息增益最大的列,就是要被拆分的列\n",
    "        if gain > best_gain:\n",
    "            best_gain = gain\n",
    "            best_col = col\n",
    "\n",
    "    return best_col\n",
    "\n",
    "\n",
    "get_split_col(x)"
   ]
  },
  {
   "cell_type": "code",
   "execution_count": 5,
   "metadata": {},
   "outputs": [
    {
     "name": "stdout",
     "output_type": "stream",
     "text": [
      "Node col=0\n",
      "Leaf y=1\n"
     ]
    },
    {
     "data": {
      "text/plain": [
       "(None, None)"
      ]
     },
     "execution_count": 5,
     "metadata": {},
     "output_type": "execute_result"
    }
   ],
   "source": [
    "#創建節點和葉子對象,用來構建樹\n",
    "class Node():\n",
    "    def __init__(self, col):\n",
    "        self.col = col\n",
    "        self.children = {}\n",
    "\n",
    "    def __str__(self):\n",
    "        return 'Node col=%d' % self.col\n",
    "\n",
    "\n",
    "class Leaf():\n",
    "    def __init__(self, y):\n",
    "        self.y = y\n",
    "\n",
    "    def __str__(self):\n",
    "        return 'Leaf y=%d' % self.y\n",
    "\n",
    "\n",
    "print(Node(0)), print(Leaf(1))"
   ]
  },
  {
   "cell_type": "code",
   "execution_count": 6,
   "metadata": {},
   "outputs": [
    {
     "name": "stdout",
     "output_type": "stream",
     "text": [
      "---- Node col=0 \n"
     ]
    }
   ],
   "source": [
    "#打印樹的方法\n",
    "def print_tree(node, prefix='', subfix=''):\n",
    "    prefix += '-' * 4\n",
    "    print(prefix, node, subfix)\n",
    "    if isinstance(node, Leaf):\n",
    "        return\n",
    "    for i in node.children:\n",
    "        subfix = 'value=' + str(i)\n",
    "        print_tree(node.children[i], prefix, subfix)\n",
    "\n",
    "\n",
    "print_tree(Node(0))"
   ]
  },
  {
   "cell_type": "code",
   "execution_count": 7,
   "metadata": {},
   "outputs": [
    {
     "data": {
      "text/plain": [
       "0"
      ]
     },
     "execution_count": 7,
     "metadata": {},
     "output_type": "execute_result"
    }
   ],
   "source": [
    "#先在所有數據上求最大信息增益的列,結果是0\n",
    "get_split_col(x)"
   ]
  },
  {
   "cell_type": "code",
   "execution_count": 8,
   "metadata": {},
   "outputs": [
    {
     "name": "stdout",
     "output_type": "stream",
     "text": [
      "Node col=0\n"
     ]
    }
   ],
   "source": [
    "#根據上面的結果,創建根節點,根節點根據列0的值來分割數據\n",
    "root = Node(0)\n",
    "print(root)"
   ]
  },
  {
   "cell_type": "markdown",
   "metadata": {},
   "source": [
    "前剪枝：在構建決策樹的過程中，在每個結點處進行估計，若該結點的子樹不純度下降的估計不足以超過預先設定的閾值，則停止劃分，將該結點標記為葉子結點。"
   ]
  },
  {
   "cell_type": "code",
   "execution_count": 9,
   "metadata": {},
   "outputs": [
    {
     "data": {
      "text/plain": [
       "False"
      ]
     },
     "execution_count": 9,
     "metadata": {},
     "output_type": "execute_result"
    }
   ],
   "source": [
    "#判斷是否要分割節點\n",
    "def pre_cut(_x, test_x):\n",
    "    #先計算不分割前的測試正確率\n",
    "\n",
    "    #取y\n",
    "    _y = _x[:, -1]\n",
    "    test_y = test_x[:, -1]\n",
    "\n",
    "    #求眾數\n",
    "    vote_y = np.bincount(_y).argmax()\n",
    "    \n",
    "    #計算測試正確率\n",
    "    pre_correct = np.sum(test_y == vote_y)\n",
    "\n",
    "    #求分割列\n",
    "    split_col = get_split_col(_x)\n",
    "\n",
    "    #計算分割後的測試正確率\n",
    "    after_correct = 0\n",
    "    for split_value in np.unique(_x[:, split_col]):\n",
    "\n",
    "        #分割數據和測試數據\n",
    "        sub_x = _x[_x[:, split_col] == split_value]\n",
    "        sub_test_x = test_x[test_x[:, split_col] == split_value]\n",
    "\n",
    "        #取y\n",
    "        sub_y = sub_x[:, -1]\n",
    "        sub_test_y = sub_test_x[:, -1]\n",
    "\n",
    "        #求眾數\n",
    "        sub_vote_y = np.bincount(sub_y).argmax()\n",
    "\n",
    "        #計算測試正確率\n",
    "        after_correct += np.sum(sub_test_y == sub_vote_y)\n",
    "\n",
    "    #如果分割後的測試正確率提升了,則分割,否則不分割\n",
    "    return pre_correct >= after_correct\n",
    "\n",
    "\n",
    "pre_cut(x, test_x)"
   ]
  },
  {
   "cell_type": "code",
   "execution_count": 10,
   "metadata": {},
   "outputs": [
    {
     "name": "stdout",
     "output_type": "stream",
     "text": [
      "---- Node col=0 \n",
      "-------- Leaf y=0 value=0\n",
      "-------- Leaf y=0 value=1\n",
      "-------- Leaf y=1 value=2\n"
     ]
    }
   ],
   "source": [
    "#添加子節點的方法\n",
    "def create_children(_x, test_x, parent_node):\n",
    "\n",
    "    #遍歷父節點col列所有的取值\n",
    "    for split_value in np.unique(_x[:, parent_node.col]):\n",
    "\n",
    "        #首先根據父節點col列的取值分割數據\n",
    "        sub_x = _x[_x[:, parent_node.col] == split_value]\n",
    "\n",
    "        sub_test_x = test_x[test_x[:, parent_node.col] == split_value]\n",
    "\n",
    "        #取去重y值\n",
    "        _y = sub_x[:, -1]\n",
    "\n",
    "        #如果所有的y都是一樣的,說明是個葉子節點\n",
    "        #如果分割後的測試正確率提升了,則分割,否則不分割\n",
    "        if len(np.unique(_y)) == 1 or pre_cut(sub_x, sub_test_x):\n",
    "            #求眾數\n",
    "            vote_y = np.bincount(_y).argmax()\n",
    "            parent_node.children[split_value] = Leaf(vote_y)\n",
    "            continue\n",
    "\n",
    "        #否則,是個分支節點,計算最佳切分列\n",
    "        split_col = get_split_col(sub_x)\n",
    "\n",
    "        #添加分支節點到父節點上\n",
    "        parent_node.children[split_value] = Node(col=split_col)\n",
    "\n",
    "\n",
    "create_children(x, test_x, root)\n",
    "\n",
    "print_tree(root)"
   ]
  },
  {
   "cell_type": "code",
   "execution_count": 11,
   "metadata": {},
   "outputs": [
    {
     "name": "stdout",
     "output_type": "stream",
     "text": [
      "0.7\n",
      "-------------------------\n",
      "0.5714285714285714\n"
     ]
    }
   ],
   "source": [
    "#預測方法,測試\n",
    "def pred(_x, node):\n",
    "    col_value = _x[node.col]\n",
    "    node = node.children[col_value]\n",
    "\n",
    "    if isinstance(node, Leaf):\n",
    "        return node.y\n",
    "\n",
    "    return pred(_x, node)\n",
    "\n",
    "\n",
    "correct = 0\n",
    "for i in x:\n",
    "    if pred(i, root) == i[-1]:\n",
    "        correct += 1\n",
    "\n",
    "print(correct / len(x))\n",
    "\n",
    "print('-------------------------')\n",
    "\n",
    "correct = 0\n",
    "for i in test_x:\n",
    "    if pred(i, root) == i[-1]:\n",
    "        correct += 1\n",
    "\n",
    "print(correct / len(test_x))"
   ]
  }
 ],
 "metadata": {
  "kernelspec": {
   "display_name": "Python 3",
   "language": "python",
   "name": "python3"
  },
  "language_info": {
   "codemirror_mode": {
    "name": "ipython",
    "version": 3
   },
   "file_extension": ".py",
   "mimetype": "text/x-python",
   "name": "python",
   "nbconvert_exporter": "python",
   "pygments_lexer": "ipython3",
   "version": "3.8.3"
  }
 },
 "nbformat": 4,
 "nbformat_minor": 4
}
